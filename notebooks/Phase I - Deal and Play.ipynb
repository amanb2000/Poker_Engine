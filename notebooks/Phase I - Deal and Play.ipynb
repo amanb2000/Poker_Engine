{
 "cells": [
  {
   "cell_type": "markdown",
   "metadata": {},
   "source": [
    "# Phase I: Dealing and Playing\n",
    "\n",
    "In this notebook I write code to deal cards to an arbitrary number of players, let them bet, and find the winner. \n",
    "\n",
    "Phase II: I can scale up to make player types and figure out raw probabilities of people having better or worse or the same hands than me. \n",
    "\n",
    "Phase III: I can build game theoretic players, RL players, etc. that take into account the results/algorithms from Phase II. "
   ]
  },
  {
   "cell_type": "code",
   "execution_count": 1,
   "metadata": {},
   "outputs": [],
   "source": [
    "# IMPORT BOX #\n",
    "using Random"
   ]
  },
  {
   "cell_type": "markdown",
   "metadata": {},
   "source": [
    "## Structure: Player Hand"
   ]
  },
  {
   "cell_type": "code",
   "execution_count": 2,
   "metadata": {},
   "outputs": [],
   "source": [
    "@enum Suit ♣ ♦ ♥ ♠\n",
    "@enum Rank Two=1 Three Four Five Six Seven Eight Nine Ten Jack Queen King Ace\n",
    "\n",
    "struct Card\n",
    "    rank::Rank\n",
    "    suit::Suit\n",
    "end"
   ]
  },
  {
   "cell_type": "code",
   "execution_count": 3,
   "metadata": {},
   "outputs": [],
   "source": [
    "struct Hand\n",
    "    cards::Array{Card}\n",
    "end"
   ]
  },
  {
   "cell_type": "markdown",
   "metadata": {},
   "source": [
    "## Get a Deck of Cards"
   ]
  },
  {
   "cell_type": "code",
   "execution_count": 4,
   "metadata": {},
   "outputs": [
    {
     "data": {
      "text/plain": [
       "get_deck (generic function with 1 method)"
      ]
     },
     "execution_count": 4,
     "metadata": {},
     "output_type": "execute_result"
    }
   ],
   "source": [
    "function get_deck()\n",
    "    deck = []\n",
    "    for rnk in (Ace, Two, Three, Four, Five, Six, Seven, Eight, Nine, Ten, Jack, Queen, King)\n",
    "        for r in (♣, ♦, ♥, ♠)\n",
    "            push!(deck,Card(rnk,r))\n",
    "        end\n",
    "    end\n",
    "    deck\n",
    "end"
   ]
  },
  {
   "cell_type": "markdown",
   "metadata": {},
   "source": [
    "## Deal A Game"
   ]
  },
  {
   "cell_type": "code",
   "execution_count": 5,
   "metadata": {},
   "outputs": [],
   "source": [
    "deck=get_deck()\n",
    "shuffle!(deck)\n",
    "\n",
    "num_players = 5\n",
    "players = Array{Hand}(undef,num_players)\n",
    "\n",
    "for i = 1:num_players\n",
    "    card_array::Array{Card} = [popfirst!(deck), popfirst!(deck)]\n",
    "    players[i] = Hand(card_array)\n",
    "end"
   ]
  },
  {
   "cell_type": "code",
   "execution_count": 6,
   "metadata": {},
   "outputs": [
    {
     "data": {
      "text/plain": [
       "5-element Array{Hand,1}:\n",
       " Hand(Card[Card(Two, ♦), Card(Four, ♥)])\n",
       " Hand(Card[Card(Three, ♠), Card(Three, ♦)])\n",
       " Hand(Card[Card(Jack, ♠), Card(Ten, ♠)])\n",
       " Hand(Card[Card(Queen, ♥), Card(Ace, ♠)])\n",
       " Hand(Card[Card(Six, ♣), Card(Seven, ♠)])"
      ]
     },
     "execution_count": 6,
     "metadata": {},
     "output_type": "execute_result"
    }
   ],
   "source": [
    "players"
   ]
  },
  {
   "cell_type": "code",
   "execution_count": 7,
   "metadata": {},
   "outputs": [
    {
     "data": {
      "text/plain": [
       "Any[]"
      ]
     },
     "execution_count": 7,
     "metadata": {},
     "output_type": "execute_result"
    }
   ],
   "source": [
    "community_cards = []"
   ]
  },
  {
   "cell_type": "code",
   "execution_count": 8,
   "metadata": {},
   "outputs": [],
   "source": [
    "for i = 1:3\n",
    "    push!(community_cards, popfirst!(deck))\n",
    "end"
   ]
  },
  {
   "cell_type": "code",
   "execution_count": 9,
   "metadata": {},
   "outputs": [
    {
     "data": {
      "text/plain": [
       "3-element Array{Any,1}:\n",
       " Card(Two, ♣)\n",
       " Card(Ten, ♦)\n",
       " Card(Jack, ♣)"
      ]
     },
     "execution_count": 9,
     "metadata": {},
     "output_type": "execute_result"
    }
   ],
   "source": [
    "community_cards"
   ]
  },
  {
   "cell_type": "code",
   "execution_count": 10,
   "metadata": {},
   "outputs": [
    {
     "data": {
      "text/plain": [
       "4-element Array{Any,1}:\n",
       " Card(Two, ♣)\n",
       " Card(Ten, ♦)\n",
       " Card(Jack, ♣)\n",
       " Card(Five, ♣)"
      ]
     },
     "execution_count": 10,
     "metadata": {},
     "output_type": "execute_result"
    }
   ],
   "source": [
    "push!(community_cards, popfirst!(deck))"
   ]
  },
  {
   "cell_type": "code",
   "execution_count": 11,
   "metadata": {},
   "outputs": [
    {
     "data": {
      "text/plain": [
       "5-element Array{Any,1}:\n",
       " Card(Two, ♣)\n",
       " Card(Ten, ♦)\n",
       " Card(Jack, ♣)\n",
       " Card(Five, ♣)\n",
       " Card(Ace, ♣)"
      ]
     },
     "execution_count": 11,
     "metadata": {},
     "output_type": "execute_result"
    }
   ],
   "source": [
    "push!(community_cards, popfirst!(deck))"
   ]
  },
  {
   "cell_type": "markdown",
   "metadata": {},
   "source": [
    "## Dominance Classes of Cards\n",
    "\n",
    "Let a set of 5 cards be a \"full hand\". We need a function that compares two full hands. \n",
    "\n",
    "Full hands can belong to the following classes: \n",
    " 1. Royal flush; \n",
    " 2. straight flush; \n",
    "      - high_card\n",
    " 3. four of a kind; \n",
    "      - quads_rank\n",
    "      - off_card\n",
    " 4. full house; \n",
    "      - trips_rank -- # on the triplet.\n",
    "      - pair_rank -- # on the doubles.\n",
    "      ------\n",
    "      - Highest trips win. \n",
    "      - Pair is a tiebreaker (e.g., with multiple decks). \n",
    " 5. flush; \n",
    "      - high card(s) wins.\n",
    " 6. straight; \n",
    "      - high_card.\n",
    "      - if it's the same high card: tie.\n",
    " 7. three of a kind; \n",
    "      - trips_rank (higher wins)\n",
    "      - high_card\n",
    "      - high_card_2\n",
    " 8. two pair; \n",
    "      - high_pair_rank\n",
    "      - low_pair_rank\n",
    "      - off_card\n",
    " 9. one pair; \n",
    "      - pair_rank\n",
    "      - high_card\n",
    "      - high_card_2\n",
    "      - high_card_3\n",
    " 10. high card\n",
    "      - sort -> compare\n",
    "\n",
    "There's a nice ordering to these, so $i$ dominates all $j<i$. They're also easy to determine.\n",
    "\n",
    "If it's a tie, we only really need to resort to the \"metadata\" for each. \n",
    "\n",
    "It's probably more efficient to only get the metadata if necessary (i.e., in the e"
   ]
  },
  {
   "cell_type": "code",
   "execution_count": null,
   "metadata": {},
   "outputs": [],
   "source": []
  }
 ],
 "metadata": {
  "kernelspec": {
   "display_name": "Julia 1.5.1",
   "language": "julia",
   "name": "julia-1.5"
  },
  "language_info": {
   "file_extension": ".jl",
   "mimetype": "application/julia",
   "name": "julia",
   "version": "1.5.1"
  }
 },
 "nbformat": 4,
 "nbformat_minor": 4
}
